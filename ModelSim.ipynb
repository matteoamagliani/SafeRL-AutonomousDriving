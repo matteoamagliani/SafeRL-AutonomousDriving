{
 "cells": [
  {
   "cell_type": "code",
   "execution_count": 2,
   "id": "42fb2d14-3a8b-4b00-8d8b-691564f6dff7",
   "metadata": {},
   "outputs": [],
   "source": [
    "import numpy as np\n",
    "import math\n",
    "import random\n",
    "from scipy.stats import norm\n",
    "import matplotlib.pyplot as plt\n",
    "from mpl_toolkits.mplot3d import Axes3D"
   ]
  },
  {
   "cell_type": "code",
   "execution_count": 3,
   "id": "fe635d17-aef1-4597-9b21-5eac83ee9bbb",
   "metadata": {},
   "outputs": [],
   "source": [
    "class KinematicModel:\n",
    "\n",
    "    def __init__(self, y, theta, Lmax, l, d, p1, sigmaC, p2):\n",
    "        self.y = y\n",
    "        self.theta = theta\n",
    "        self.Lmax = Lmax\n",
    "        self.l = l\n",
    "        self.d = d\n",
    "        self.p1 = p1 # probability of curve event\n",
    "        self.sigmaC = sigmaC\n",
    "        self.p2 = p2 # probability of next vehicle event\n",
    "\n",
    "    def input(self, action):\n",
    "        noise = norm.rvs(loc=0, scale=action[0] / 4)\n",
    "        self.y = self.y + action[0] * math.sin(action[1] + noise + self.theta)\n",
    "        nextVehicleEvent = random.random()\n",
    "        if nextVehicleEvent < self.p2:\n",
    "            self.d = self.d + (self.l - action[0] * math.cos(action[1] + noise + self.theta))\n",
    "        else:\n",
    "            self.d = 40\n",
    "        curveEvent = random.random()\n",
    "        if curveEvent < self.p1:\n",
    "            curveAngle = norm.rvs(loc=0, scale=self.sigmaC)\n",
    "            self.theta = self.theta + curveAngle"
   ]
  },
  {
   "cell_type": "code",
   "execution_count": 4,
   "id": "86ce288b-db84-4b3a-90b6-7d42dd9f9721",
   "metadata": {},
   "outputs": [],
   "source": [
    "# Probability of going out of a STRAIGHT ROAD given an action \n",
    "def P1(action, environment, sigma, show = True):\n",
    "\n",
    "    # Term 1 is the probability that y > Lmax\n",
    "    term1 = math.degrees(math.asin((environment.Lmax - environment.y) / action[0]))\n",
    "    term1 = 1 - norm.cdf((1 / sigma) * (term1 - action[1] - environment.theta))\n",
    "    #print(f\"Term 1: {term1}\")\n",
    "\n",
    "    # Term 2 is the probability that y < -Lmax\n",
    "    term2 = math.degrees(math.asin((- environment.Lmax - environment.y) / action[0]))\n",
    "    term2 = norm.cdf((1 / sigma) * (term2 - action[1] - environment.theta))\n",
    "    #print(f\"Term 2: {term2}\")\n",
    "    \n",
    "    # Final probability is a weighted sum of the two terms, adjusted by the p1 probability\n",
    "    value = (1 - environment.p1) * (term1 + term2)\n",
    "    if show:\n",
    "        print(f\"Value: {value}\")\n",
    "    return value, term1, term2\n",
    "    \n",
    "# Probability of going out of a CURVED ROAD given an action\n",
    "def P2(action, environment, sigma, show = True):\n",
    "\n",
    "    # Term 1 is the probability that y > Lmax\n",
    "    term1 = math.degrees(math.asin((environment.Lmax - environment.y) / action[0]))\n",
    "    term1 = 1 - norm.cdf((1 / sigma) * (term1 - action[1] - environment.theta))\n",
    "    #print(f\"Term 1: {term1}\")\n",
    "\n",
    "    # Term 2 is the probability that y < -Lmax\n",
    "    term2 = math.degrees(math.asin((- environment.Lmax - environment.y) / action[0]))\n",
    "    term2 = norm.cdf((1 / sigma) * (term2 - action[1] - environment.theta))\n",
    "    #print(f\"Term 2: {term2}\")\n",
    "    \n",
    "    value = environment.p1 * (term1 + term2)\n",
    "    if show:\n",
    "        print(f\"Value: {value}\")\n",
    "    return value, term1, term2\n",
    "\n",
    "# Probability of risking a CRASH in a STRAIGHT ROAD given an action \n",
    "def P3(action, environment, sigma, show = True):\n",
    "    \n",
    "    # checks if the calculated distance to the vehicle in front is too large for a crash\n",
    "    if (1 / action[0]) * (environment.l + ( ((action[0] * 3.6) / -2) + environment.d)) > 1:\n",
    "        return 0 # If the value exceeds 1, no risk of a crash\n",
    "    \n",
    "    # Calculate the angle of the potential collision based on the current action and environment\n",
    "    value = math.degrees(math.acos((1 / action[0]) * (environment.l + (((action[0] * 3.6) / -2) + environment.d))))\n",
    "    # Probability of the collision is calculated using the normal distribution's cumulative density function (CDF)\n",
    "    value = norm.cdf((1 / sigma) * (value - math.fabs(action[1]) - math.fabs(environment.theta)))\n",
    "    \n",
    "    value = environment.p2 * (1 - environment.p1) * value\n",
    "    if show:\n",
    "        print(f\"Value: {value}\")\n",
    "    return value\n",
    "\n",
    "# Probability of risking a CRASH in a CURVED ROAD given an action\n",
    "def P4(action, environment, sigma, show = True):\n",
    "    # checks if the calculated distance to the vehicle in front is too large for a crash\n",
    "    if (1 / action[0]) * (environment.l + ( ((action[0] * 3.6) / -2) + environment.d)) > 1:\n",
    "        return 0 # If the value exceeds 1, no risk of a crash\n",
    "    value = math.degrees(math.acos((1 / action[0]) * (environment.l + (((action[0] * 3.6) / -2) + environment.d))))\n",
    "    value = norm.cdf((1 / sigma) * (value - math.fabs(action[1]) - math.fabs(environment.theta)))\n",
    "    \n",
    "    value = environment.p2 * environment.p1 * value\n",
    "    if show:\n",
    "        print(f\"Value: {value}\")\n",
    "    return value"
   ]
  },
  {
   "cell_type": "code",
   "execution_count": 5,
   "id": "3253d170-9b41-4c51-982b-af55c3603b54",
   "metadata": {},
   "outputs": [
    {
     "name": "stdout",
     "output_type": "stream",
     "text": [
      "[(20, -5), (20, -4), (20, -3), (20, -2), (20, -1), (20, 0), (20, 1), (20, 2), (20, 3), (20, 4), (20, 5), (25, -5), (25, -4), (25, -3), (25, -2), (25, -1), (25, 0), (25, 1), (25, 2), (25, 3), (25, 4), (25, 5), (30, -5), (30, -4), (30, -3), (30, -2), (30, -1), (30, 0), (30, 1), (30, 2), (30, 3), (30, 4), (30, 5)]\n"
     ]
    }
   ],
   "source": [
    "# 0 = S_G: good state\n",
    "# 1 = S_X: out of road state\n",
    "# 2 = S_I: risk of crash state\n",
    "# 3 = S_XI: out of road and risk of crash state\n",
    "\n",
    "# Environment starts:\n",
    "# - At center of the road y = 0 m\n",
    "# - Aligned with the road theta = 0°\n",
    "# - Road width 4 m Lmax = 2 m\n",
    "# - Road limit 90 km/h l = 25 m/s\n",
    "# - Distance from next vehicle d = 40 m\n",
    "# - Probability of a road curve p1 = 5%\n",
    "# - Variance of the curve sigmaC = 5\n",
    "# - Probability of a vehicle in front p2 = 30%\n",
    "#kinematicModel = KinematicModel(-1.8798570530529481, -1.8851942218687283, 2, 25, 40.070777439717716, 0.05, 5, 0.3)\n",
    "kinematicModel = KinematicModel(0, 0, 2, 25, 40.070777439717716, 0.5, 5, 0.3)\n",
    "\n",
    "# Test\n",
    "testAnglesDeg = [-5, -4, -3, -2, -1, 0, 1, 2, 3, 4, 5]\n",
    "testVelocities = [20, 25, 30]\n",
    "testActions = [(v, delta) for v in testVelocities for delta in testAnglesDeg]\n",
    "print(testActions)"
   ]
  },
  {
   "cell_type": "code",
   "execution_count": 6,
   "id": "da07d566-d479-4522-a431-0ceda276207d",
   "metadata": {},
   "outputs": [
    {
     "name": "stdout",
     "output_type": "stream",
     "text": [
      "Value: 0.29436853123695\n",
      "Value: 0.27359061383836836\n",
      "Value: 0.2560116106239195\n",
      "Value: 0.24263852176450226\n",
      "Value: 0.23427077043133793\n",
      "Value: 0.23142240977201164\n",
      "Value: 0.23427077043133793\n",
      "Value: 0.24263852176450224\n",
      "Value: 0.25601161062391947\n",
      "Value: 0.27359061383836836\n",
      "Value: 0.29436853123695006\n"
     ]
    },
    {
     "data": {
      "image/png": "[encoded data removed]",
      "text/plain": [
       "<Figure size 800x500 with 1 Axes>"
      ]
     },
     "metadata": {},
     "output_type": "display_data"
    }
   ],
   "source": [
    "# P1 test\n",
    "P1_values = []\n",
    "term1_values = []\n",
    "term2_values = []\n",
    "for angle in testAnglesDeg:\n",
    "    action = (25, angle)\n",
    "    P1_val, term1_val, term2_val = P1(action, kinematicModel, action[0]/4)\n",
    "    P1_values.append(P1_val)\n",
    "    term1_values.append(term1_val)\n",
    "    term2_values.append(term2_val)\n",
    "    \n",
    "# Plotta il grafico\n",
    "plt.figure(figsize=(8,5))\n",
    "plt.plot(testAnglesDeg, P1_values, label=\"P1(action)\", color=\"b\", linestyle=\"-\")\n",
    "plt.plot(testAnglesDeg, term1_values, label=\"Term1\", color=\"r\", linestyle=\"--\")\n",
    "plt.plot(testAnglesDeg, term2_values, label=\"Term2\", color=\"g\", linestyle=\":\")\n",
    "\n",
    "# Aggiungi etichette e titolo\n",
    "plt.xlabel(\"Angolo (°)\")\n",
    "plt.ylabel(\"Probabilità P1\")\n",
    "plt.title(\"Grafico di P1 in funzione dell'angolo\")\n",
    "plt.legend()\n",
    "plt.grid()"
   ]
  },
  {
   "cell_type": "code",
   "execution_count": 7,
   "id": "680e07c9-b078-4b05-9f59-d4117b8e4c7a",
   "metadata": {},
   "outputs": [
    {
     "name": "stdout",
     "output_type": "stream",
     "text": [
      "Value: 0.2771599057114864\n",
      "Value: 0.24021227659678876\n",
      "Value: 0.2075283261056816\n",
      "Value: 0.1818399182040213\n",
      "Value: 0.16541962244023925\n",
      "Value: 0.15977096054529782\n",
      "Value: 0.16541962244023928\n",
      "Value: 0.18183991820402126\n",
      "Value: 0.20752832610568156\n",
      "Value: 0.24021227659678876\n",
      "Value: 0.2771599057114864\n"
     ]
    },
    {
     "data": {
      "image/png": "[encoded data removed]",
      "text/plain": [
       "<Figure size 800x500 with 1 Axes>"
      ]
     },
     "metadata": {},
     "output_type": "display_data"
    }
   ],
   "source": [
    "# P2 test\n",
    "P2_values = []\n",
    "term1_values = []\n",
    "term2_values = []\n",
    "for angle in testAnglesDeg:\n",
    "    action = (25, angle)\n",
    "    P2_val, term1_val, term2_val = P2(action, kinematicModel, math.sqrt(action[0]/4 + 15))\n",
    "    P2_values.append(P2_val)\n",
    "    term1_values.append(term1_val)\n",
    "    term2_values.append(term2_val)\n",
    "    \n",
    "# Plotta il grafico\n",
    "plt.figure(figsize=(8,5))\n",
    "plt.plot(testAnglesDeg, P2_values, label=\"P2(action)\", color=\"b\", linestyle=\"-\")\n",
    "plt.plot(testAnglesDeg, term1_values, label=\"Term1\", color=\"r\", linestyle=\"--\")\n",
    "plt.plot(testAnglesDeg, term2_values, label=\"Term2\", color=\"g\", linestyle=\":\")\n",
    "\n",
    "# Aggiungi etichette e titolo\n",
    "plt.xlabel(\"Angolo (°)\")\n",
    "plt.ylabel(\"Probabilità P2\")\n",
    "plt.title(\"Grafico di P2 in funzione dell'angolo\")\n",
    "plt.legend()\n",
    "plt.grid()"
   ]
  },
  {
   "cell_type": "code",
   "execution_count": 8,
   "id": "f911c93c-9ae9-4492-bb31-78beeb80885e",
   "metadata": {},
   "outputs": [
    {
     "name": "stdout",
     "output_type": "stream",
     "text": [
      "Value: 0.15\n",
      "Value: 0.15\n",
      "Value: 0.15\n",
      "Value: 0.15\n",
      "Value: 0.15\n",
      "Value: 0.15\n",
      "Value: 0.15\n",
      "Value: 0.15\n",
      "Value: 0.15\n",
      "Value: 0.15\n",
      "Value: 0.15\n"
     ]
    },
    {
     "data": {
      "image/png": "[encoded data removed]",
      "text/plain": [
       "<Figure size 800x500 with 1 Axes>"
      ]
     },
     "metadata": {},
     "output_type": "display_data"
    }
   ],
   "source": [
    "# P3 test\n",
    "P3_values = []\n",
    "for angle in testAnglesDeg:\n",
    "    action = (30, angle)\n",
    "    P3_val = P3(action, kinematicModel, action[0]/4)\n",
    "    P3_values.append(P3_val)\n",
    "    \n",
    "# Plotta il grafico\n",
    "plt.figure(figsize=(8,5))\n",
    "plt.plot(testAnglesDeg, P3_values, label=\"P3(action)\", color=\"b\", linestyle=\"-\")\n",
    "\n",
    "# Aggiungi etichette e titolo\n",
    "plt.xlabel(\"Angolo (°)\")\n",
    "plt.ylabel(\"Probabilità P3\")\n",
    "plt.title(\"Grafico di P3 in funzione dell'angolo\")\n",
    "plt.legend()\n",
    "plt.grid()"
   ]
  },
  {
   "cell_type": "code",
   "execution_count": 9,
   "id": "c9d07b2b-bb0d-4c13-99a3-0454a8c22f29",
   "metadata": {},
   "outputs": [
    {
     "data": {
      "image/png": "[encoded data removed]",
      "text/plain": [
       "<Figure size 800x500 with 1 Axes>"
      ]
     },
     "metadata": {},
     "output_type": "display_data"
    }
   ],
   "source": [
    "# P4 test\n",
    "P4_values = []\n",
    "for angle in testAnglesDeg:\n",
    "    action = (20, angle)\n",
    "    P4_val = P4(action, kinematicModel, math.sqrt(action[0]/4 + 15))\n",
    "    P4_values.append(P4_val)\n",
    "    \n",
    "# Plotta il grafico\n",
    "plt.figure(figsize=(8,5))\n",
    "plt.plot(testAnglesDeg, P4_values, label=\"P4(action)\", color=\"b\", linestyle=\"-\")\n",
    "\n",
    "# Aggiungi etichette e titolo\n",
    "plt.xlabel(\"Angolo (°)\")\n",
    "plt.ylabel(\"Probabilità P4\")\n",
    "plt.title(\"Grafico di P4 in funzione dell'angolo\")\n",
    "plt.legend()\n",
    "plt.grid()"
   ]
  },
  {
   "cell_type": "code",
   "execution_count": 10,
   "id": "b3830b60-0a43-49c6-a458-a6a5063864c5",
   "metadata": {},
   "outputs": [],
   "source": [
    "# Transition probabilities\n",
    "\n",
    "# Transition probability from any state to a Good State (S_G)\n",
    "def anyToG(action, environment):\n",
    "    # Compute probability of going off the road (straight and curved parts)\n",
    "    P1_val, _, _ = P1(action, environment, action[0]/4, False)\n",
    "    P2_val, _, _ = P2(action, environment, math.sqrt(action[0]/4 + environment.sigmaC), False)\n",
    "    # Term 1 is the probability of NOT going out of the road\n",
    "    # (1 - probability of going off-road, which is given by P1 + P2)\n",
    "    term1 = 1 - (P1_val + P2_val)\n",
    "    # Term 2 is the probability of NOT risking a crash\n",
    "    # (1 - probability of crashing, where crash probability = P3 + P4)\n",
    "    term2 = 1 - (P3(action, environment, action[0]/4, False) + P4(action, environment, math.sqrt(action[0]/4 + environment.sigmaC), False))\n",
    "    return term1 * term2 # overall probability of being in a good state\n",
    "    \n",
    "# Transition probability from any state to an Out-of-Road State (S_X)\n",
    "def anyToX(action, environment):\n",
    "    P1_val, _, _ = P1(action, environment, action[0]/4, False)\n",
    "    P2_val, _, _ = P2(action, environment, math.sqrt(action[0]/4 + environment.sigmaC), False)\n",
    "    # Term 1 is the probability of going out of the road\n",
    "    term1 = P1_val + P2_val\n",
    "    # Term 2 is the probability of NOT risking a crash\n",
    "    term2 = 1 - (P3(action, environment, action[0]/4, False) + P4(action, environment, math.sqrt(action[0]/4 + environment.sigmaC), False))\n",
    "    return term1 * term2 # overall probability of going off-road (and not crashing)\n",
    "\n",
    "# Transition probability from any state to a Crash-Risk State (S_I)\n",
    "def anyToI(action, environment):\n",
    "    P1_val, _, _ = P1(action, environment, action[0]/4, False)\n",
    "    P2_val, _, _ = P2(action, environment, math.sqrt(action[0]/4 + environment.sigmaC), False)\n",
    "    # Term 1 is the probability of NOT going out of the road\n",
    "    term1 = 1 - (P1_val + P2_val)\n",
    "    # Term 2 is the probability of risking a crash\n",
    "    term2 = P3(action, environment, action[0]/4, False) + P4(action, environment, math.sqrt(action[0]/4 + environment.sigmaC), False)\n",
    "    return term1 * term2 # overall probability of being at risk of a crash (while staying on the road)\n",
    "\n",
    "# Transition probability from any state to an Out-of-Road and Crash-Risk State (S_XI)\n",
    "def anyToXI(action, environment):\n",
    "    P1_val, _, _ = P1(action, environment, action[0]/4, False)\n",
    "    P2_val, _, _ = P2(action, environment, math.sqrt(action[0]/4 + environment.sigmaC), False)\n",
    "    # Term 1 is the probability of going out of the road\n",
    "    term1 = P1_val + P2_val\n",
    "    # Term 2 is the probability of risking a crash\n",
    "    term2 = P3(action, environment, action[0]/4, False) + P4(action, environment, math.sqrt(action[0]/4 + environment.sigmaC), False)\n",
    "    return term1 * term2 # overall probability of being out-of-road and at risk of a crash\n",
    "\n",
    "def transitionProbabilitiesMatrix(actions, environment):\n",
    "    # List of functions corresponding to transitions:\n",
    "    # anyToG: Transition to Good State (S_G)\n",
    "    # anyToX: Transition to Out-of-Road State (S_X)\n",
    "    # anyToI: Transition to Crash-Risk State (S_I)\n",
    "    # anyToXI: Transition to Out-of-Road and Crash-Risk State (S_XI)\n",
    "    transitions = [anyToG, anyToX, anyToI, anyToXI]\n",
    "\n",
    "    # Build the transition matrix:\n",
    "    # For each action in the provided 'actions' list, compute the probability for each transition.\n",
    "    transitionMatrix = np.array([[transition(action, kinematicModel) for transition in transitions] for action in actions])\n",
    "    return transitionMatrix"
   ]
  },
  {
   "cell_type": "code",
   "execution_count": 11,
   "id": "0c5fbc6f-24f0-4c95-9aaa-1ef0e0520a1b",
   "metadata": {},
   "outputs": [],
   "source": [
    "# Reward for staying at the center of the road\n",
    "def rewardCenterProbability(action, environment, ratio, show = True):\n",
    "    # Term 1 is the probability that y < Lmax * ratio\n",
    "    # the angular offset corresponding to the distance from the vehicle's current lateral position (environment.y)\n",
    "    # to the right boundary of the safe region (Lmax * ratio). The safe region is a fraction of the maximum lateral limit.\n",
    "    term1 = math.degrees(math.asin(((environment.Lmax * ratio) - environment.y) / action[0]))\n",
    "    \n",
    "    # Compute a variant of Term 1 (term1C) using a noise scaling factor that includes the environment's curve variance (environment.sigmaC)\n",
    "    # Here, math.sqrt(action[0]/4 + environment.sigmaC) adjusts the noise based on the current speed and the curve variance.\n",
    "    term1C = norm.cdf((1 / math.sqrt(action[0]/4 + environment.sigmaC)) * (term1 - action[1] - environment.theta))\n",
    "    \n",
    "    # Recompute Term 1 as the cumulative probability (using norm.cdf) after adjusting \n",
    "    # by the steering angle (action[1]) and the vehicle's current orientation (environment.theta).\n",
    "    term1 = norm.cdf((1 / action[0]/4) * (term1 - action[1] - environment.theta))\n",
    "    #print(f\"Term 1: {term1}\")\n",
    "    \n",
    "    # Term 2: the angular offset corresponding to the distance from the vehicle's current lateral position (environment.y)\n",
    "    # to the left boundary of the safe region (-Lmax * ratio)\n",
    "    # Term 2 is the probability that y > -Lmax * ratio\n",
    "    term2 = math.degrees(math.asin(((-environment.Lmax * ratio) - environment.y) / action[0]))\n",
    "    term2C = norm.cdf((1 / math.sqrt(action[0]/4 + environment.sigmaC)) * (term2 - action[1] - environment.theta))\n",
    "    term2 = norm.cdf((1 / action[0]/4) * (term2 - action[1] - environment.theta))\n",
    "    #print(f\"Term 2: {term2}\")\n",
    "    \n",
    "    # Combine the terms using the probability of encountering a curve (environment.p1)\n",
    "    # - When the road is straight (weight 1 - p1), the reward is proportional to (term1 - term2).\n",
    "    # - When the road is curved (weight p1), the reward is proportional to (term1C - term2C).\n",
    "    value = ((1 - environment.p1) * (term1 - term2)) + (environment.p1 * (term1C - term2C))\n",
    "    if show:\n",
    "        print(f\"Value: {value}\")\n",
    "    return value\n",
    "\n",
    "# Reward for going at the correct speed\n",
    "def rewardSpeed(action, environment):\n",
    "    # Penalize the difference between the desired speed (environment.l, assumed to be the speed limit)\n",
    "    # and the current speed (action[0]). A perfect match gives 0 penalty, and any deviation results in a negative reward.\n",
    "    return -(math.fabs(environment.l - action[0]))\n",
    "\n",
    "# Reward for staying at the correct distance (minimizing risk of a crash)\n",
    "def rewardDistanceProbability(action, environment):\n",
    "    # Probability of risking a crash in a straight road given an action \n",
    "    term1 = P3(action, environment, action[0] / 4, False)\n",
    "    #Probability of risking a crash in a curved road given an action\n",
    "    term2 = P4(action, environment, math.sqrt(action[0]/4 + environment.sigmaC), False)\n",
    "    return term1 + term2\n",
    "\n",
    "# Expected reward given an action by combining multiple aspects of performance\n",
    "def expectedReward(action, environment, r1, r2, r3, r4, show = True):\n",
    "    # Reward component for staying near the center of the road with a safe margin.\n",
    "    # Here, ratio 0.5 might represent a wider safe zone.\n",
    "    termR1 = r1 * rewardCenterProbability(action, environment, 0.5, False)\n",
    "    #print(f\"Term r1: {termR1}\")\n",
    "    \n",
    "    # Another reward component for center alignment, using a tighter safe zone (ratio 0.25).\n",
    "    termR2 = r2 * rewardCenterProbability(action, environment, 0.25, False)\n",
    "    #print(f\"Term r2: {termR2}\")\n",
    "    \n",
    "    # Speed reward: penalizes deviation from the desired speed.\n",
    "    rSpeed = rewardSpeed(action, environment)\n",
    "    \n",
    "    # Reward component for avoiding a crash: we want a low crash risk.\n",
    "    # (1 - rewardDistanceProbability) gives a higher value when the crash risk is low.\n",
    "    termR3 = r3 * (1 - rewardDistanceProbability(action, environment))\n",
    "    #print(f\"Term r3: {termR3}\")\n",
    "    \n",
    "    # Additional penalty or reward based directly on the crash risk.\n",
    "    termR4 = r4 * rewardDistanceProbability(action, environment)\n",
    "    #print(f\"Term r4: {termR4}\")\n",
    "    \n",
    "    # Calculate the overall expected reward by summing all components.\n",
    "    total_reward = termR1 + termR2 + rSpeed + termR3 + termR4\n",
    "\n",
    "    if show:\n",
    "        print(f\"Reward for action [{action[0]}, {action[1]}]: {round(total_reward, 2)}\")\n",
    "    \n",
    "    return total_reward\n",
    "\n"
   ]
  },
  {
   "cell_type": "code",
   "execution_count": 12,
   "id": "6d52db3d-f5d4-4311-87ea-4bade72bccec",
   "metadata": {},
   "outputs": [
    {
     "name": "stdout",
     "output_type": "stream",
     "text": [
      "Reward for action [20, -5]: 6.95\n",
      "Reward for action [20, -4]: 12.33\n",
      "Reward for action [20, -3]: 18.19\n",
      "Reward for action [20, -2]: 23.57\n",
      "Reward for action [20, -1]: 27.4\n",
      "Reward for action [20, 0]: 28.78\n",
      "Reward for action [20, 1]: 27.4\n",
      "Reward for action [20, 2]: 23.57\n",
      "Reward for action [20, 3]: 18.19\n",
      "Reward for action [20, 4]: 12.33\n",
      "Reward for action [20, 5]: 6.95\n",
      "Reward for action [25, -5]: 9.68\n",
      "Reward for action [25, -4]: 13.84\n",
      "Reward for action [25, -3]: 18.29\n",
      "Reward for action [25, -2]: 22.34\n",
      "Reward for action [25, -1]: 25.2\n",
      "Reward for action [25, 0]: 26.23\n",
      "Reward for action [25, 1]: 25.2\n",
      "Reward for action [25, 2]: 22.34\n",
      "Reward for action [25, 3]: 18.29\n",
      "Reward for action [25, 4]: 13.84\n",
      "Reward for action [25, 5]: 9.68\n",
      "Reward for action [30, -5]: 3.09\n",
      "Reward for action [30, -4]: 6.38\n",
      "Reward for action [30, -3]: 9.84\n",
      "Reward for action [30, -2]: 12.93\n",
      "Reward for action [30, -1]: 15.08\n",
      "Reward for action [30, 0]: 15.86\n",
      "Reward for action [30, 1]: 15.08\n",
      "Reward for action [30, 2]: 12.93\n",
      "Reward for action [30, 3]: 9.84\n",
      "Reward for action [30, 4]: 6.38\n",
      "Reward for action [30, 5]: 3.09\n"
     ]
    },
    {
     "data": {
      "image/png": "[encoded data removed]",
      "text/plain": [
       "<Figure size 1000x700 with 1 Axes>"
      ]
     },
     "metadata": {},
     "output_type": "display_data"
    }
   ],
   "source": [
    "# Estrai i valori delle azioni\n",
    "x_vals = [action[0] for action in testActions] # speed \n",
    "y_vals = [action[1] for action in testActions] # steering angle\n",
    "\n",
    "# Compute the expected reward for each action:\n",
    "# - action: the current action tuple (speed, steering angle)\n",
    "# - kinematicModel: the environment model containing the vehicle and road parameters\n",
    "# - 50, 100, -1, 0: coefficients (r1, r2, r3, r4) for weighting the different reward components.\n",
    "reward_values = [expectedReward(action, kinematicModel, 50, 100, -1, 0) for action in testActions]\n",
    "\n",
    "# Creazione del grafico 3D con i punti reali\n",
    "fig = plt.figure(figsize=(10, 7))\n",
    "ax = fig.add_subplot(111, projection='3d')\n",
    "\n",
    "# - x_vals: x-axis data (action's speed)\n",
    "# - y_vals: y-axis data (action's steering angle)\n",
    "# - reward_values: z-axis data (computed reward for each action)\n",
    "ax.scatter(x_vals, y_vals, reward_values, c=reward_values, cmap=\"viridis\", marker='o')\n",
    "\n",
    "# Etichette\n",
    "ax.set_xlabel(\"Azione x\")\n",
    "ax.set_ylabel(\"Azione y\")\n",
    "ax.set_zlabel(\"Reward\")\n",
    "ax.set_title(\"Grafico della funzione Reward (solo punti dati)\")\n",
    "\n",
    "plt.show()"
   ]
  },
  {
   "cell_type": "code",
   "execution_count": 13,
   "id": "97b340ad-68a4-46c9-8c41-84c1d7fb367b",
   "metadata": {},
   "outputs": [
    {
     "name": "stdout",
     "output_type": "stream",
     "text": [
      "Reward for action [20.0, -5.0]: 6.95\n",
      "Reward for action [21.11, -5.0]: 7.35\n",
      "Reward for action [22.22, -5.0]: 7.85\n",
      "Reward for action [23.33, -5.0]: 8.65\n",
      "Reward for action [24.44, -5.0]: 9.34\n",
      "Reward for action [25.56, -5.0]: 8.91\n",
      "Reward for action [26.67, -5.0]: 7.41\n",
      "Reward for action [27.78, -5.0]: 5.94\n",
      "Reward for action [28.89, -5.0]: 4.5\n",
      "Reward for action [30.0, -5.0]: 3.09\n",
      "Reward for action [20.0, -3.89]: 12.97\n",
      "Reward for action [21.11, -3.89]: 13.03\n",
      "Reward for action [22.22, -3.89]: 13.2\n",
      "Reward for action [23.33, -3.89]: 13.73\n",
      "Reward for action [24.44, -3.89]: 14.12\n",
      "Reward for action [25.56, -3.89]: 13.44\n",
      "Reward for action [26.67, -3.89]: 11.7\n",
      "Reward for action [27.78, -3.89]: 10.01\n",
      "Reward for action [28.89, -3.89]: 8.37\n",
      "Reward for action [30.0, -3.89]: 6.77\n",
      "Reward for action [20.0, -2.78]: 19.46\n",
      "Reward for action [21.11, -2.78]: 19.13\n",
      "Reward for action [22.22, -2.78]: 18.93\n",
      "Reward for action [23.33, -2.78]: 19.14\n",
      "Reward for action [24.44, -2.78]: 19.2\n",
      "Reward for action [25.56, -2.78]: 18.22\n",
      "Reward for action [26.67, -2.78]: 16.21\n",
      "Reward for action [27.78, -2.78]: 14.27\n",
      "Reward for action [28.89, -2.78]: 12.4\n",
      "Reward for action [30.0, -2.78]: 10.58\n",
      "Reward for action [20.0, -1.67]: 25.07\n",
      "Reward for action [21.11, -1.67]: 24.39\n",
      "Reward for action [22.22, -1.67]: 23.87\n",
      "Reward for action [23.33, -1.67]: 23.77\n",
      "Reward for action [24.44, -1.67]: 23.54\n",
      "Reward for action [25.56, -1.67]: 22.3\n",
      "Reward for action [26.67, -1.67]: 20.04\n",
      "Reward for action [27.78, -1.67]: 17.88\n",
      "Reward for action [28.89, -1.67]: 15.79\n",
      "Reward for action [30.0, -1.67]: 13.78\n",
      "Reward for action [20.0, -0.56]: 28.35\n",
      "Reward for action [21.11, -0.56]: 27.46\n",
      "Reward for action [22.22, -0.56]: 26.74\n",
      "Reward for action [23.33, -0.56]: 26.47\n",
      "Reward for action [24.44, -0.56]: 26.07\n",
      "Reward for action [25.56, -0.56]: 24.66\n",
      "Reward for action [26.67, -0.56]: 22.26\n",
      "Reward for action [27.78, -0.56]: 19.96\n",
      "Reward for action [28.89, -0.56]: 17.74\n",
      "Reward for action [30.0, -0.56]: 15.61\n",
      "Reward for action [20.0, 0.56]: 28.35\n",
      "Reward for action [21.11, 0.56]: 27.46\n",
      "Reward for action [22.22, 0.56]: 26.74\n",
      "Reward for action [23.33, 0.56]: 26.47\n",
      "Reward for action [24.44, 0.56]: 26.07\n",
      "Reward for action [25.56, 0.56]: 24.66\n",
      "Reward for action [26.67, 0.56]: 22.26\n",
      "Reward for action [27.78, 0.56]: 19.96\n",
      "Reward for action [28.89, 0.56]: 17.74\n",
      "Reward for action [30.0, 0.56]: 15.61\n",
      "Reward for action [20.0, 1.67]: 25.07\n",
      "Reward for action [21.11, 1.67]: 24.39\n",
      "Reward for action [22.22, 1.67]: 23.87\n",
      "Reward for action [23.33, 1.67]: 23.77\n",
      "Reward for action [24.44, 1.67]: 23.54\n",
      "Reward for action [25.56, 1.67]: 22.3\n",
      "Reward for action [26.67, 1.67]: 20.04\n",
      "Reward for action [27.78, 1.67]: 17.88\n",
      "Reward for action [28.89, 1.67]: 15.79\n",
      "Reward for action [30.0, 1.67]: 13.78\n",
      "Reward for action [20.0, 2.78]: 19.46\n",
      "Reward for action [21.11, 2.78]: 19.13\n",
      "Reward for action [22.22, 2.78]: 18.93\n",
      "Reward for action [23.33, 2.78]: 19.14\n",
      "Reward for action [24.44, 2.78]: 19.2\n",
      "Reward for action [25.56, 2.78]: 18.22\n",
      "Reward for action [26.67, 2.78]: 16.21\n",
      "Reward for action [27.78, 2.78]: 14.27\n",
      "Reward for action [28.89, 2.78]: 12.4\n",
      "Reward for action [30.0, 2.78]: 10.58\n",
      "Reward for action [20.0, 3.89]: 12.97\n",
      "Reward for action [21.11, 3.89]: 13.03\n",
      "Reward for action [22.22, 3.89]: 13.2\n",
      "Reward for action [23.33, 3.89]: 13.73\n",
      "Reward for action [24.44, 3.89]: 14.12\n",
      "Reward for action [25.56, 3.89]: 13.44\n",
      "Reward for action [26.67, 3.89]: 11.7\n",
      "Reward for action [27.78, 3.89]: 10.01\n",
      "Reward for action [28.89, 3.89]: 8.37\n",
      "Reward for action [30.0, 3.89]: 6.77\n",
      "Reward for action [20.0, 5.0]: 6.95\n",
      "Reward for action [21.11, 5.0]: 7.35\n",
      "Reward for action [22.22, 5.0]: 7.85\n",
      "Reward for action [23.33, 5.0]: 8.65\n",
      "Reward for action [24.44, 5.0]: 9.34\n",
      "Reward for action [25.56, 5.0]: 8.91\n",
      "Reward for action [26.67, 5.0]: 7.41\n",
      "Reward for action [27.78, 5.0]: 5.94\n",
      "Reward for action [28.89, 5.0]: 4.5\n",
      "Reward for action [30.0, 5.0]: 3.09\n"
     ]
    },
    {
     "data": {
      "image/png": "[encoded data removed]",
      "text/plain": [
       "<Figure size 1000x700 with 1 Axes>"
      ]
     },
     "metadata": {},
     "output_type": "display_data"
    }
   ],
   "source": [
    "# Extract the values of the actions from testActions\n",
    "x_vals = [action[0] for action in testActions]\n",
    "y_vals = [action[1] for action in testActions]\n",
    "reward_values = [expectedReward(action, kinematicModel, 50, 100, -1, 0, False) for action in testActions]\n",
    "\n",
    "# Create a grid of X and Y values for the plot.\n",
    "# np.linspace generates 10 evenly spaced values between the minimum and maximum of x_vals and y_vals.\n",
    "X, Y = np.meshgrid(np.linspace(min(x_vals), max(x_vals), 10),\n",
    "                   np.linspace(min(y_vals), max(y_vals), 10))\n",
    "\n",
    "# Calculate the reward value (Z) for each point on the grid.\n",
    "# For each grid coordinate (X[i, j], Y[i, j]), we compute the expected reward using the same coefficients.\n",
    "Z = np.array([[expectedReward([X[i, j], Y[i, j]], kinematicModel, 50, 100, -1, 0, False) \n",
    "               for j in range(X.shape[1])] for i in range(X.shape[0])])\n",
    "for i in range(X.shape[0]): #  print out the reward for each grid point.\n",
    "    for j in range(X.shape[1]):\n",
    "        print(f\"Reward for action [{round(X[i, j], 2)}, {round(Y[i, j], 2)}]: {round(Z[i, j], 2)}\")\n",
    "\n",
    "# Create a 3D figure to visualize the reward function as a surface.\n",
    "fig = plt.figure(figsize=(10, 7))\n",
    "ax = fig.add_subplot(111, projection='3d')\n",
    "ax.plot_surface(X, Y, Z, cmap=\"viridis\") \n",
    "\n",
    "# Labels    \n",
    "ax.set_xlabel(\"Action x (speed)\")\n",
    "ax.set_ylabel(\"Action y (angle)\")\n",
    "ax.set_zlabel(\"Reward\")\n",
    "ax.set_title(\"Reward function surface plot\")\n",
    "\n",
    "plt.show()"
   ]
  },
  {
   "cell_type": "code",
   "execution_count": 14,
   "id": "f7e17cdd-37c6-43c9-90b5-731a1aeb0096",
   "metadata": {},
   "outputs": [
    {
     "data": {
      "application/vnd.plotly.v1+json": {
       "config": {
        "plotlyServerURL": "https://plot.ly"
       },
       "data": [
        {
         "hoverinfo": "text",
         "marker": {
          "color": [
           6.945650556951787,
           12.327614362606923,
           18.188214022186106,
           23.574349414588923,
           27.396722210373653,
           28.78233693969034,
           27.396722210373653,
           23.574349414588923,
           18.188214022186106,
           12.327614362606923,
           6.94565055695179,
           9.677336031561687,
           13.83546903512948,
           18.29334736570073,
           22.343630892607177,
           25.196431577919988,
           26.226724821970404,
           25.196431577919995,
           22.34363089260718,
           18.29334736570073,
           13.835469035129483,
           9.67733603156169,
           3.089917402866294,
           6.38362337353574,
           9.839567544670562,
           12.929455437969803,
           15.082678476533339,
           15.856183187809197,
           15.082678476533342,
           12.929455437969796,
           9.839567544670562,
           6.383623373535737,
           3.089917402866287
          ],
          "colorbar": {
           "title": {
            "text": "Reward"
           }
          },
          "colorscale": [
           [
            0,
            "#440154"
           ],
           [
            0.1111111111111111,
            "#482878"
           ],
           [
            0.2222222222222222,
            "#3e4989"
           ],
           [
            0.3333333333333333,
            "#31688e"
           ],
           [
            0.4444444444444444,
            "#26828e"
           ],
           [
            0.5555555555555556,
            "#1f9e89"
           ],
           [
            0.6666666666666666,
            "#35b779"
           ],
           [
            0.7777777777777778,
            "#6ece58"
           ],
           [
            0.8888888888888888,
            "#b5de2b"
           ],
           [
            1,
            "#fde725"
           ]
          ],
          "opacity": 0.8,
          "size": 5
         },
         "mode": "markers",
         "text": [
          "Reward: 6.95",
          "Reward: 12.33",
          "Reward: 18.19",
          "Reward: 23.57",
          "Reward: 27.4",
          "Reward: 28.78",
          "Reward: 27.4",
          "Reward: 23.57",
          "Reward: 18.19",
          "Reward: 12.33",
          "Reward: 6.95",
          "Reward: 9.68",
          "Reward: 13.84",
          "Reward: 18.29",
          "Reward: 22.34",
          "Reward: 25.2",
          "Reward: 26.23",
          "Reward: 25.2",
          "Reward: 22.34",
          "Reward: 18.29",
          "Reward: 13.84",
          "Reward: 9.68",
          "Reward: 3.09",
          "Reward: 6.38",
          "Reward: 9.84",
          "Reward: 12.93",
          "Reward: 15.08",
          "Reward: 15.86",
          "Reward: 15.08",
          "Reward: 12.93",
          "Reward: 9.84",
          "Reward: 6.38",
          "Reward: 3.09"
         ],
         "type": "scatter3d",
         "x": [
          20,
          20,
          20,
          20,
          20,
          20,
          20,
          20,
          20,
          20,
          20,
          25,
          25,
          25,
          25,
          25,
          25,
          25,
          25,
          25,
          25,
          25,
          30,
          30,
          30,
          30,
          30,
          30,
          30,
          30,
          30,
          30,
          30
         ],
         "y": [
          -5,
          -4,
          -3,
          -2,
          -1,
          0,
          1,
          2,
          3,
          4,
          5,
          -5,
          -4,
          -3,
          -2,
          -1,
          0,
          1,
          2,
          3,
          4,
          5,
          -5,
          -4,
          -3,
          -2,
          -1,
          0,
          1,
          2,
          3,
          4,
          5
         ],
         "z": [
          6.945650556951787,
          12.327614362606923,
          18.188214022186106,
          23.574349414588923,
          27.396722210373653,
          28.78233693969034,
          27.396722210373653,
          23.574349414588923,
          18.188214022186106,
          12.327614362606923,
          6.94565055695179,
          9.677336031561687,
          13.83546903512948,
          18.29334736570073,
          22.343630892607177,
          25.196431577919988,
          26.226724821970404,
          25.196431577919995,
          22.34363089260718,
          18.29334736570073,
          13.835469035129483,
          9.67733603156169,
          3.089917402866294,
          6.38362337353574,
          9.839567544670562,
          12.929455437969803,
          15.082678476533339,
          15.856183187809197,
          15.082678476533342,
          12.929455437969796,
          9.839567544670562,
          6.383623373535737,
          3.089917402866287
         ]
        }
       ],
       "layout": {
        "scene": {
         "xaxis": {
          "title": {
           "text": "Azione x"
          }
         },
         "yaxis": {
          "title": {
           "text": "Azione y"
          }
         },
         "zaxis": {
          "title": {
           "text": "Reward"
          }
         }
        },
        "template": {
         "data": {
          "bar": [
           {
            "error_x": {
             "color": "#2a3f5f"
            },
            "error_y": {
             "color": "#2a3f5f"
            },
            "marker": {
             "line": {
              "color": "#E5ECF6",
              "width": 0.5
             },
             "pattern": {
              "fillmode": "overlay",
              "size": 10,
              "solidity": 0.2
             }
            },
            "type": "bar"
           }
          ],
          "barpolar": [
           {
            "marker": {
             "line": {
              "color": "#E5ECF6",
              "width": 0.5
             },
             "pattern": {
              "fillmode": "overlay",
              "size": 10,
              "solidity": 0.2
             }
            },
            "type": "barpolar"
           }
          ],
          "carpet": [
           {
            "aaxis": {
             "endlinecolor": "#2a3f5f",
             "gridcolor": "white",
             "linecolor": "white",
             "minorgridcolor": "white",
             "startlinecolor": "#2a3f5f"
            },
            "baxis": {
             "endlinecolor": "#2a3f5f",
             "gridcolor": "white",
             "linecolor": "white",
             "minorgridcolor": "white",
             "startlinecolor": "#2a3f5f"
            },
            "type": "carpet"
           }
          ],
          "choropleth": [
           {
            "colorbar": {
             "outlinewidth": 0,
             "ticks": ""
            },
            "type": "choropleth"
           }
          ],
          "contour": [
           {
            "colorbar": {
             "outlinewidth": 0,
             "ticks": ""
            },
            "colorscale": [
             [
              0,
              "#0d0887"
             ],
             [
              0.1111111111111111,
              "#46039f"
             ],
             [
              0.2222222222222222,
              "#7201a8"
             ],
             [
              0.3333333333333333,
              "#9c179e"
             ],
             [
              0.4444444444444444,
              "#bd3786"
             ],
             [
              0.5555555555555556,
              "#d8576b"
             ],
             [
              0.6666666666666666,
              "#ed7953"
             ],
             [
              0.7777777777777778,
              "#fb9f3a"
             ],
             [
              0.8888888888888888,
              "#fdca26"
             ],
             [
              1,
              "#f0f921"
             ]
            ],
            "type": "contour"
           }
          ],
          "contourcarpet": [
           {
            "colorbar": {
             "outlinewidth": 0,
             "ticks": ""
            },
            "type": "contourcarpet"
           }
          ],
          "heatmap": [
           {
            "colorbar": {
             "outlinewidth": 0,
             "ticks": ""
            },
            "colorscale": [
             [
              0,
              "#0d0887"
             ],
             [
              0.1111111111111111,
              "#46039f"
             ],
             [
              0.2222222222222222,
              "#7201a8"
             ],
             [
              0.3333333333333333,
              "#9c179e"
             ],
             [
              0.4444444444444444,
              "#bd3786"
             ],
             [
              0.5555555555555556,
              "#d8576b"
             ],
             [
              0.6666666666666666,
              "#ed7953"
             ],
             [
              0.7777777777777778,
              "#fb9f3a"
             ],
             [
              0.8888888888888888,
              "#fdca26"
             ],
             [
              1,
              "#f0f921"
             ]
            ],
            "type": "heatmap"
           }
          ],
          "histogram": [
           {
            "marker": {
             "pattern": {
              "fillmode": "overlay",
              "size": 10,
              "solidity": 0.2
             }
            },
            "type": "histogram"
           }
          ],
          "histogram2d": [
           {
            "colorbar": {
             "outlinewidth": 0,
             "ticks": ""
            },
            "colorscale": [
             [
              0,
              "#0d0887"
             ],
             [
              0.1111111111111111,
              "#46039f"
             ],
             [
              0.2222222222222222,
              "#7201a8"
             ],
             [
              0.3333333333333333,
              "#9c179e"
             ],
             [
              0.4444444444444444,
              "#bd3786"
             ],
             [
              0.5555555555555556,
              "#d8576b"
             ],
             [
              0.6666666666666666,
              "#ed7953"
             ],
             [
              0.7777777777777778,
              "#fb9f3a"
             ],
             [
              0.8888888888888888,
              "#fdca26"
             ],
             [
              1,
              "#f0f921"
             ]
            ],
            "type": "histogram2d"
           }
          ],
          "histogram2dcontour": [
           {
            "colorbar": {
             "outlinewidth": 0,
             "ticks": ""
            },
            "colorscale": [
             [
              0,
              "#0d0887"
             ],
             [
              0.1111111111111111,
              "#46039f"
             ],
             [
              0.2222222222222222,
              "#7201a8"
             ],
             [
              0.3333333333333333,
              "#9c179e"
             ],
             [
              0.4444444444444444,
              "#bd3786"
             ],
             [
              0.5555555555555556,
              "#d8576b"
             ],
             [
              0.6666666666666666,
              "#ed7953"
             ],
             [
              0.7777777777777778,
              "#fb9f3a"
             ],
             [
              0.8888888888888888,
              "#fdca26"
             ],
             [
              1,
              "#f0f921"
             ]
            ],
            "type": "histogram2dcontour"
           }
          ],
          "mesh3d": [
           {
            "colorbar": {
             "outlinewidth": 0,
             "ticks": ""
            },
            "type": "mesh3d"
           }
          ],
          "parcoords": [
           {
            "line": {
             "colorbar": {
              "outlinewidth": 0,
              "ticks": ""
             }
            },
            "type": "parcoords"
           }
          ],
          "pie": [
           {
            "automargin": true,
            "type": "pie"
           }
          ],
          "scatter": [
           {
            "fillpattern": {
             "fillmode": "overlay",
             "size": 10,
             "solidity": 0.2
            },
            "type": "scatter"
           }
          ],
          "scatter3d": [
           {
            "line": {
             "colorbar": {
              "outlinewidth": 0,
              "ticks": ""
             }
            },
            "marker": {
             "colorbar": {
              "outlinewidth": 0,
              "ticks": ""
             }
            },
            "type": "scatter3d"
           }
          ],
          "scattercarpet": [
           {
            "marker": {
             "colorbar": {
              "outlinewidth": 0,
              "ticks": ""
             }
            },
            "type": "scattercarpet"
           }
          ],
          "scattergeo": [
           {
            "marker": {
             "colorbar": {
              "outlinewidth": 0,
              "ticks": ""
             }
            },
            "type": "scattergeo"
           }
          ],
          "scattergl": [
           {
            "marker": {
             "colorbar": {
              "outlinewidth": 0,
              "ticks": ""
             }
            },
            "type": "scattergl"
           }
          ],
          "scattermap": [
           {
            "marker": {
             "colorbar": {
              "outlinewidth": 0,
              "ticks": ""
             }
            },
            "type": "scattermap"
           }
          ],
          "scattermapbox": [
           {
            "marker": {
             "colorbar": {
              "outlinewidth": 0,
              "ticks": ""
             }
            },
            "type": "scattermapbox"
           }
          ],
          "scatterpolar": [
           {
            "marker": {
             "colorbar": {
              "outlinewidth": 0,
              "ticks": ""
             }
            },
            "type": "scatterpolar"
           }
          ],
          "scatterpolargl": [
           {
            "marker": {
             "colorbar": {
              "outlinewidth": 0,
              "ticks": ""
             }
            },
            "type": "scatterpolargl"
           }
          ],
          "scatterternary": [
           {
            "marker": {
             "colorbar": {
              "outlinewidth": 0,
              "ticks": ""
             }
            },
            "type": "scatterternary"
           }
          ],
          "surface": [
           {
            "colorbar": {
             "outlinewidth": 0,
             "ticks": ""
            },
            "colorscale": [
             [
              0,
              "#0d0887"
             ],
             [
              0.1111111111111111,
              "#46039f"
             ],
             [
              0.2222222222222222,
              "#7201a8"
             ],
             [
              0.3333333333333333,
              "#9c179e"
             ],
             [
              0.4444444444444444,
              "#bd3786"
             ],
             [
              0.5555555555555556,
              "#d8576b"
             ],
             [
              0.6666666666666666,
              "#ed7953"
             ],
             [
              0.7777777777777778,
              "#fb9f3a"
             ],
             [
              0.8888888888888888,
              "#fdca26"
             ],
             [
              1,
              "#f0f921"
             ]
            ],
            "type": "surface"
           }
          ],
          "table": [
           {
            "cells": {
             "fill": {
              "color": "#EBF0F8"
             },
             "line": {
              "color": "white"
             }
            },
            "header": {
             "fill": {
              "color": "#C8D4E3"
             },
             "line": {
              "color": "white"
             }
            },
            "type": "table"
           }
          ]
         },
         "layout": {
          "annotationdefaults": {
           "arrowcolor": "#2a3f5f",
           "arrowhead": 0,
           "arrowwidth": 1
          },
          "autotypenumbers": "strict",
          "coloraxis": {
           "colorbar": {
            "outlinewidth": 0,
            "ticks": ""
           }
          },
          "colorscale": {
           "diverging": [
            [
             0,
             "#8e0152"
            ],
            [
             0.1,
             "#c51b7d"
            ],
            [
             0.2,
             "#de77ae"
            ],
            [
             0.3,
             "#f1b6da"
            ],
            [
             0.4,
             "#fde0ef"
            ],
            [
             0.5,
             "#f7f7f7"
            ],
            [
             0.6,
             "#e6f5d0"
            ],
            [
             0.7,
             "#b8e186"
            ],
            [
             0.8,
             "#7fbc41"
            ],
            [
             0.9,
             "#4d9221"
            ],
            [
             1,
             "#276419"
            ]
           ],
           "sequential": [
            [
             0,
             "#0d0887"
            ],
            [
             0.1111111111111111,
             "#46039f"
            ],
            [
             0.2222222222222222,
             "#7201a8"
            ],
            [
             0.3333333333333333,
             "#9c179e"
            ],
            [
             0.4444444444444444,
             "#bd3786"
            ],
            [
             0.5555555555555556,
             "#d8576b"
            ],
            [
             0.6666666666666666,
             "#ed7953"
            ],
            [
             0.7777777777777778,
             "#fb9f3a"
            ],
            [
             0.8888888888888888,
             "#fdca26"
            ],
            [
             1,
             "#f0f921"
            ]
           ],
           "sequentialminus": [
            [
             0,
             "#0d0887"
            ],
            [
             0.1111111111111111,
             "#46039f"
            ],
            [
             0.2222222222222222,
             "#7201a8"
            ],
            [
             0.3333333333333333,
             "#9c179e"
            ],
            [
             0.4444444444444444,
             "#bd3786"
            ],
            [
             0.5555555555555556,
             "#d8576b"
            ],
            [
             0.6666666666666666,
             "#ed7953"
            ],
            [
             0.7777777777777778,
             "#fb9f3a"
            ],
            [
             0.8888888888888888,
             "#fdca26"
            ],
            [
             1,
             "#f0f921"
            ]
           ]
          },
          "colorway": [
           "#636efa",
           "#EF553B",
           "#00cc96",
           "#ab63fa",
           "#FFA15A",
           "#19d3f3",
           "#FF6692",
           "#B6E880",
           "#FF97FF",
           "#FECB52"
          ],
          "font": {
           "color": "#2a3f5f"
          },
          "geo": {
           "bgcolor": "white",
           "lakecolor": "white",
           "landcolor": "#E5ECF6",
           "showlakes": true,
           "showland": true,
           "subunitcolor": "white"
          },
          "hoverlabel": {
           "align": "left"
          },
          "hovermode": "closest",
          "mapbox": {
           "style": "light"
          },
          "paper_bgcolor": "white",
          "plot_bgcolor": "#E5ECF6",
          "polar": {
           "angularaxis": {
            "gridcolor": "white",
            "linecolor": "white",
            "ticks": ""
           },
           "bgcolor": "#E5ECF6",
           "radialaxis": {
            "gridcolor": "white",
            "linecolor": "white",
            "ticks": ""
           }
          },
          "scene": {
           "xaxis": {
            "backgroundcolor": "#E5ECF6",
            "gridcolor": "white",
            "gridwidth": 2,
            "linecolor": "white",
            "showbackground": true,
            "ticks": "",
            "zerolinecolor": "white"
           },
           "yaxis": {
            "backgroundcolor": "#E5ECF6",
            "gridcolor": "white",
            "gridwidth": 2,
            "linecolor": "white",
            "showbackground": true,
            "ticks": "",
            "zerolinecolor": "white"
           },
           "zaxis": {
            "backgroundcolor": "#E5ECF6",
            "gridcolor": "white",
            "gridwidth": 2,
            "linecolor": "white",
            "showbackground": true,
            "ticks": "",
            "zerolinecolor": "white"
           }
          },
          "shapedefaults": {
           "line": {
            "color": "#2a3f5f"
           }
          },
          "ternary": {
           "aaxis": {
            "gridcolor": "white",
            "linecolor": "white",
            "ticks": ""
           },
           "baxis": {
            "gridcolor": "white",
            "linecolor": "white",
            "ticks": ""
           },
           "bgcolor": "#E5ECF6",
           "caxis": {
            "gridcolor": "white",
            "linecolor": "white",
            "ticks": ""
           }
          },
          "title": {
           "x": 0.05
          },
          "xaxis": {
           "automargin": true,
           "gridcolor": "white",
           "linecolor": "white",
           "ticks": "",
           "title": {
            "standoff": 15
           },
           "zerolinecolor": "white",
           "zerolinewidth": 2
          },
          "yaxis": {
           "automargin": true,
           "gridcolor": "white",
           "linecolor": "white",
           "ticks": "",
           "title": {
            "standoff": 15
           },
           "zerolinecolor": "white",
           "zerolinewidth": 2
          }
         }
        },
        "title": {
         "text": "Interactive 3D Plot of Reward Function"
        }
       }
      }
     },
     "metadata": {},
     "output_type": "display_data"
    }
   ],
   "source": [
    "import plotly.graph_objects as go\n",
    "import numpy as np\n",
    "\n",
    "# Assumiamo che x_vals, y_vals e reward_values siano già definiti, ad esempio:\n",
    "# x_vals = [action[0] for action in testActions]\n",
    "# y_vals = [action[1] for action in testActions]\n",
    "# reward_values = [expectedReward(action, kinematicModel, 50, 100, -1, 0, False) for action in testActions]\n",
    "\n",
    "# Create an interactive 3D scatter plot using Plotly\n",
    "fig = go.Figure(data=[go.Scatter3d(\n",
    "    x=x_vals,                 # x-axis data (e.g., speed component)\n",
    "    y=y_vals,                 # y-axis data (e.g., steering angle)\n",
    "    z=reward_values,          # z-axis data (reward values)\n",
    "    mode='markers',           # display as markers (points)\n",
    "    marker=dict(\n",
    "        size=5,               # marker size\n",
    "        color=reward_values,  # marker colors based on reward values\n",
    "        colorscale='Viridis', # colormap\n",
    "        opacity=0.8,          # transparency level\n",
    "        colorbar=dict(title=\"Reward\")  # colorbar legend\n",
    "    ),\n",
    "    # Display additional text information on hover\n",
    "    text=[f\"Reward: {round(r,2)}\" for r in reward_values],\n",
    "    hoverinfo=\"text\"\n",
    ")])\n",
    "\n",
    "# Update layout to add axis titles and a plot title\n",
    "fig.update_layout(\n",
    "    scene=dict(\n",
    "        xaxis_title=\"Azione x\",   # x-axis title\n",
    "        yaxis_title=\"Azione y\",   # y-axis title\n",
    "        zaxis_title=\"Reward\"      # z-axis title\n",
    "    ),\n",
    "    title=\"Interactive 3D Plot of Reward Function\"\n",
    ")\n",
    "\n",
    "# Display the interactive plot\n",
    "fig.show()\n"
   ]
  },
  {
   "cell_type": "code",
   "execution_count": 15,
   "id": "155ec240",
   "metadata": {},
   "outputs": [
    {
     "data": {
      "application/vnd.plotly.v1+json": {
       "config": {
        "plotlyServerURL": "https://plot.ly"
       },
       "data": [
        {
         "colorbar": {
          "title": {
           "text": "Reward"
          }
         },
         "colorscale": [
          [
           0,
           "#440154"
          ],
          [
           0.1111111111111111,
           "#482878"
          ],
          [
           0.2222222222222222,
           "#3e4989"
          ],
          [
           0.3333333333333333,
           "#31688e"
          ],
          [
           0.4444444444444444,
           "#26828e"
          ],
          [
           0.5555555555555556,
           "#1f9e89"
          ],
          [
           0.6666666666666666,
           "#35b779"
          ],
          [
           0.7777777777777778,
           "#6ece58"
          ],
          [
           0.8888888888888888,
           "#b5de2b"
          ],
          [
           1,
           "#fde725"
          ]
         ],
         "type": "surface",
         "x": {
          "bdata": "FBkeFBkeFBkeFBkeFBkeFBkeFBkeFBkeFBkeFBkeFBke",
          "dtype": "i1",
          "shape": "11, 3"
         },
         "y": {
          "bdata": "+/v7/Pz8/f39/v7+////AAAAAQEBAgICAwMDBAQEBQUF",
          "dtype": "i1",
          "shape": "11, 3"
         },
         "z": {
          "bdata": "XDWenljIG0B4MdoRvacoQB3wTcsuMDJA3CIwkAiTN0DUJjeWj2U7QDhs0jtHyDxA1CY3lo9lO0DcIjCQCJM3QB3wTcsuMDJAeDHaEb2nKEBgNZ6eWMgbQHTrz8nLWiNAUWftmMKrK0BpDR7QGEsyQKOktTH4VzZAahEDV0kyOUDnjU+jCjo6QGwRA1dJMjlApKS1MfhXNkBpDR7QGEsyQFNn7ZjCqytAduvPyctaI0BGN4WdJrgIQM9EzZDUiBlAQkkWzNutI0DeVkqV4dspQGyWUdVUKi5AEg2OpF22L0BullHVVCouQNpWSpXh2ylAQkkWzNutI0DLRM2Q1IgZQDY3hZ0muAhA",
          "dtype": "f8",
          "shape": "11, 3"
         }
        }
       ],
       "layout": {
        "scene": {
         "xaxis": {
          "title": {
           "text": "Velocità"
          }
         },
         "yaxis": {
          "title": {
           "text": "Angolo di Sterzo"
          }
         },
         "zaxis": {
          "title": {
           "text": "Reward"
          }
         }
        },
        "template": {
         "data": {
          "bar": [
           {
            "error_x": {
             "color": "#2a3f5f"
            },
            "error_y": {
             "color": "#2a3f5f"
            },
            "marker": {
             "line": {
              "color": "#E5ECF6",
              "width": 0.5
             },
             "pattern": {
              "fillmode": "overlay",
              "size": 10,
              "solidity": 0.2
             }
            },
            "type": "bar"
           }
          ],
          "barpolar": [
           {
            "marker": {
             "line": {
              "color": "#E5ECF6",
              "width": 0.5
             },
             "pattern": {
              "fillmode": "overlay",
              "size": 10,
              "solidity": 0.2
             }
            },
            "type": "barpolar"
           }
          ],
          "carpet": [
           {
            "aaxis": {
             "endlinecolor": "#2a3f5f",
             "gridcolor": "white",
             "linecolor": "white",
             "minorgridcolor": "white",
             "startlinecolor": "#2a3f5f"
            },
            "baxis": {
             "endlinecolor": "#2a3f5f",
             "gridcolor": "white",
             "linecolor": "white",
             "minorgridcolor": "white",
             "startlinecolor": "#2a3f5f"
            },
            "type": "carpet"
           }
          ],
          "choropleth": [
           {
            "colorbar": {
             "outlinewidth": 0,
             "ticks": ""
            },
            "type": "choropleth"
           }
          ],
          "contour": [
           {
            "colorbar": {
             "outlinewidth": 0,
             "ticks": ""
            },
            "colorscale": [
             [
              0,
              "#0d0887"
             ],
             [
              0.1111111111111111,
              "#46039f"
             ],
             [
              0.2222222222222222,
              "#7201a8"
             ],
             [
              0.3333333333333333,
              "#9c179e"
             ],
             [
              0.4444444444444444,
              "#bd3786"
             ],
             [
              0.5555555555555556,
              "#d8576b"
             ],
             [
              0.6666666666666666,
              "#ed7953"
             ],
             [
              0.7777777777777778,
              "#fb9f3a"
             ],
             [
              0.8888888888888888,
              "#fdca26"
             ],
             [
              1,
              "#f0f921"
             ]
            ],
            "type": "contour"
           }
          ],
          "contourcarpet": [
           {
            "colorbar": {
             "outlinewidth": 0,
             "ticks": ""
            },
            "type": "contourcarpet"
           }
          ],
          "heatmap": [
           {
            "colorbar": {
             "outlinewidth": 0,
             "ticks": ""
            },
            "colorscale": [
             [
              0,
              "#0d0887"
             ],
             [
              0.1111111111111111,
              "#46039f"
             ],
             [
              0.2222222222222222,
              "#7201a8"
             ],
             [
              0.3333333333333333,
              "#9c179e"
             ],
             [
              0.4444444444444444,
              "#bd3786"
             ],
             [
              0.5555555555555556,
              "#d8576b"
             ],
             [
              0.6666666666666666,
              "#ed7953"
             ],
             [
              0.7777777777777778,
              "#fb9f3a"
             ],
             [
              0.8888888888888888,
              "#fdca26"
             ],
             [
              1,
              "#f0f921"
             ]
            ],
            "type": "heatmap"
           }
          ],
          "histogram": [
           {
            "marker": {
             "pattern": {
              "fillmode": "overlay",
              "size": 10,
              "solidity": 0.2
             }
            },
            "type": "histogram"
           }
          ],
          "histogram2d": [
           {
            "colorbar": {
             "outlinewidth": 0,
             "ticks": ""
            },
            "colorscale": [
             [
              0,
              "#0d0887"
             ],
             [
              0.1111111111111111,
              "#46039f"
             ],
             [
              0.2222222222222222,
              "#7201a8"
             ],
             [
              0.3333333333333333,
              "#9c179e"
             ],
             [
              0.4444444444444444,
              "#bd3786"
             ],
             [
              0.5555555555555556,
              "#d8576b"
             ],
             [
              0.6666666666666666,
              "#ed7953"
             ],
             [
              0.7777777777777778,
              "#fb9f3a"
             ],
             [
              0.8888888888888888,
              "#fdca26"
             ],
             [
              1,
              "#f0f921"
             ]
            ],
            "type": "histogram2d"
           }
          ],
          "histogram2dcontour": [
           {
            "colorbar": {
             "outlinewidth": 0,
             "ticks": ""
            },
            "colorscale": [
             [
              0,
              "#0d0887"
             ],
             [
              0.1111111111111111,
              "#46039f"
             ],
             [
              0.2222222222222222,
              "#7201a8"
             ],
             [
              0.3333333333333333,
              "#9c179e"
             ],
             [
              0.4444444444444444,
              "#bd3786"
             ],
             [
              0.5555555555555556,
              "#d8576b"
             ],
             [
              0.6666666666666666,
              "#ed7953"
             ],
             [
              0.7777777777777778,
              "#fb9f3a"
             ],
             [
              0.8888888888888888,
              "#fdca26"
             ],
             [
              1,
              "#f0f921"
             ]
            ],
            "type": "histogram2dcontour"
           }
          ],
          "mesh3d": [
           {
            "colorbar": {
             "outlinewidth": 0,
             "ticks": ""
            },
            "type": "mesh3d"
           }
          ],
          "parcoords": [
           {
            "line": {
             "colorbar": {
              "outlinewidth": 0,
              "ticks": ""
             }
            },
            "type": "parcoords"
           }
          ],
          "pie": [
           {
            "automargin": true,
            "type": "pie"
           }
          ],
          "scatter": [
           {
            "fillpattern": {
             "fillmode": "overlay",
             "size": 10,
             "solidity": 0.2
            },
            "type": "scatter"
           }
          ],
          "scatter3d": [
           {
            "line": {
             "colorbar": {
              "outlinewidth": 0,
              "ticks": ""
             }
            },
            "marker": {
             "colorbar": {
              "outlinewidth": 0,
              "ticks": ""
             }
            },
            "type": "scatter3d"
           }
          ],
          "scattercarpet": [
           {
            "marker": {
             "colorbar": {
              "outlinewidth": 0,
              "ticks": ""
             }
            },
            "type": "scattercarpet"
           }
          ],
          "scattergeo": [
           {
            "marker": {
             "colorbar": {
              "outlinewidth": 0,
              "ticks": ""
             }
            },
            "type": "scattergeo"
           }
          ],
          "scattergl": [
           {
            "marker": {
             "colorbar": {
              "outlinewidth": 0,
              "ticks": ""
             }
            },
            "type": "scattergl"
           }
          ],
          "scattermap": [
           {
            "marker": {
             "colorbar": {
              "outlinewidth": 0,
              "ticks": ""
             }
            },
            "type": "scattermap"
           }
          ],
          "scattermapbox": [
           {
            "marker": {
             "colorbar": {
              "outlinewidth": 0,
              "ticks": ""
             }
            },
            "type": "scattermapbox"
           }
          ],
          "scatterpolar": [
           {
            "marker": {
             "colorbar": {
              "outlinewidth": 0,
              "ticks": ""
             }
            },
            "type": "scatterpolar"
           }
          ],
          "scatterpolargl": [
           {
            "marker": {
             "colorbar": {
              "outlinewidth": 0,
              "ticks": ""
             }
            },
            "type": "scatterpolargl"
           }
          ],
          "scatterternary": [
           {
            "marker": {
             "colorbar": {
              "outlinewidth": 0,
              "ticks": ""
             }
            },
            "type": "scatterternary"
           }
          ],
          "surface": [
           {
            "colorbar": {
             "outlinewidth": 0,
             "ticks": ""
            },
            "colorscale": [
             [
              0,
              "#0d0887"
             ],
             [
              0.1111111111111111,
              "#46039f"
             ],
             [
              0.2222222222222222,
              "#7201a8"
             ],
             [
              0.3333333333333333,
              "#9c179e"
             ],
             [
              0.4444444444444444,
              "#bd3786"
             ],
             [
              0.5555555555555556,
              "#d8576b"
             ],
             [
              0.6666666666666666,
              "#ed7953"
             ],
             [
              0.7777777777777778,
              "#fb9f3a"
             ],
             [
              0.8888888888888888,
              "#fdca26"
             ],
             [
              1,
              "#f0f921"
             ]
            ],
            "type": "surface"
           }
          ],
          "table": [
           {
            "cells": {
             "fill": {
              "color": "#EBF0F8"
             },
             "line": {
              "color": "white"
             }
            },
            "header": {
             "fill": {
              "color": "#C8D4E3"
             },
             "line": {
              "color": "white"
             }
            },
            "type": "table"
           }
          ]
         },
         "layout": {
          "annotationdefaults": {
           "arrowcolor": "#2a3f5f",
           "arrowhead": 0,
           "arrowwidth": 1
          },
          "autotypenumbers": "strict",
          "coloraxis": {
           "colorbar": {
            "outlinewidth": 0,
            "ticks": ""
           }
          },
          "colorscale": {
           "diverging": [
            [
             0,
             "#8e0152"
            ],
            [
             0.1,
             "#c51b7d"
            ],
            [
             0.2,
             "#de77ae"
            ],
            [
             0.3,
             "#f1b6da"
            ],
            [
             0.4,
             "#fde0ef"
            ],
            [
             0.5,
             "#f7f7f7"
            ],
            [
             0.6,
             "#e6f5d0"
            ],
            [
             0.7,
             "#b8e186"
            ],
            [
             0.8,
             "#7fbc41"
            ],
            [
             0.9,
             "#4d9221"
            ],
            [
             1,
             "#276419"
            ]
           ],
           "sequential": [
            [
             0,
             "#0d0887"
            ],
            [
             0.1111111111111111,
             "#46039f"
            ],
            [
             0.2222222222222222,
             "#7201a8"
            ],
            [
             0.3333333333333333,
             "#9c179e"
            ],
            [
             0.4444444444444444,
             "#bd3786"
            ],
            [
             0.5555555555555556,
             "#d8576b"
            ],
            [
             0.6666666666666666,
             "#ed7953"
            ],
            [
             0.7777777777777778,
             "#fb9f3a"
            ],
            [
             0.8888888888888888,
             "#fdca26"
            ],
            [
             1,
             "#f0f921"
            ]
           ],
           "sequentialminus": [
            [
             0,
             "#0d0887"
            ],
            [
             0.1111111111111111,
             "#46039f"
            ],
            [
             0.2222222222222222,
             "#7201a8"
            ],
            [
             0.3333333333333333,
             "#9c179e"
            ],
            [
             0.4444444444444444,
             "#bd3786"
            ],
            [
             0.5555555555555556,
             "#d8576b"
            ],
            [
             0.6666666666666666,
             "#ed7953"
            ],
            [
             0.7777777777777778,
             "#fb9f3a"
            ],
            [
             0.8888888888888888,
             "#fdca26"
            ],
            [
             1,
             "#f0f921"
            ]
           ]
          },
          "colorway": [
           "#636efa",
           "#EF553B",
           "#00cc96",
           "#ab63fa",
           "#FFA15A",
           "#19d3f3",
           "#FF6692",
           "#B6E880",
           "#FF97FF",
           "#FECB52"
          ],
          "font": {
           "color": "#2a3f5f"
          },
          "geo": {
           "bgcolor": "white",
           "lakecolor": "white",
           "landcolor": "#E5ECF6",
           "showlakes": true,
           "showland": true,
           "subunitcolor": "white"
          },
          "hoverlabel": {
           "align": "left"
          },
          "hovermode": "closest",
          "mapbox": {
           "style": "light"
          },
          "paper_bgcolor": "white",
          "plot_bgcolor": "#E5ECF6",
          "polar": {
           "angularaxis": {
            "gridcolor": "white",
            "linecolor": "white",
            "ticks": ""
           },
           "bgcolor": "#E5ECF6",
           "radialaxis": {
            "gridcolor": "white",
            "linecolor": "white",
            "ticks": ""
           }
          },
          "scene": {
           "xaxis": {
            "backgroundcolor": "#E5ECF6",
            "gridcolor": "white",
            "gridwidth": 2,
            "linecolor": "white",
            "showbackground": true,
            "ticks": "",
            "zerolinecolor": "white"
           },
           "yaxis": {
            "backgroundcolor": "#E5ECF6",
            "gridcolor": "white",
            "gridwidth": 2,
            "linecolor": "white",
            "showbackground": true,
            "ticks": "",
            "zerolinecolor": "white"
           },
           "zaxis": {
            "backgroundcolor": "#E5ECF6",
            "gridcolor": "white",
            "gridwidth": 2,
            "linecolor": "white",
            "showbackground": true,
            "ticks": "",
            "zerolinecolor": "white"
           }
          },
          "shapedefaults": {
           "line": {
            "color": "#2a3f5f"
           }
          },
          "ternary": {
           "aaxis": {
            "gridcolor": "white",
            "linecolor": "white",
            "ticks": ""
           },
           "baxis": {
            "gridcolor": "white",
            "linecolor": "white",
            "ticks": ""
           },
           "bgcolor": "#E5ECF6",
           "caxis": {
            "gridcolor": "white",
            "linecolor": "white",
            "ticks": ""
           }
          },
          "title": {
           "x": 0.05
          },
          "xaxis": {
           "automargin": true,
           "gridcolor": "white",
           "linecolor": "white",
           "ticks": "",
           "title": {
            "standoff": 15
           },
           "zerolinecolor": "white",
           "zerolinewidth": 2
          },
          "yaxis": {
           "automargin": true,
           "gridcolor": "white",
           "linecolor": "white",
           "ticks": "",
           "title": {
            "standoff": 15
           },
           "zerolinecolor": "white",
           "zerolinewidth": 2
          }
         }
        },
        "title": {
         "text": "Superficie della Funzione di Reward"
        }
       }
      }
     },
     "metadata": {},
     "output_type": "display_data"
    }
   ],
   "source": [
    "import plotly.graph_objects as go\n",
    "import numpy as np\n",
    "\n",
    "# Assumiamo che x_vals, y_vals e reward_values siano già definiti\n",
    "# x_vals = [action[0] for action in testActions]  # velocità\n",
    "# y_vals = [action[1] for action in testActions]  # angolo di sterzo\n",
    "# reward_values = [expectedReward(action, kinematicModel, 50, 100, -1, 0, False) for action in testActions]\n",
    "\n",
    "# Creiamo una griglia per la superficie\n",
    "x_vals = np.array(x_vals)\n",
    "y_vals = np.array(y_vals)\n",
    "z_vals = np.array(reward_values)\n",
    "\n",
    "# Creiamo una meshgrid per la superficie\n",
    "x_grid, y_grid = np.meshgrid(np.unique(x_vals), np.unique(y_vals))\n",
    "z_grid = z_vals.reshape(len(np.unique(y_vals)), len(np.unique(x_vals)))\n",
    "\n",
    "# Creiamo la superficie\n",
    "fig = go.Figure(data=[go.Surface(\n",
    "    x=x_grid,  # x-axis data (velocità)\n",
    "    y=y_grid,  # y-axis data (angolo di sterzo)\n",
    "    z=z_grid,  # z-axis data (reward values)\n",
    "    colorscale='Viridis',  # colormap\n",
    "    colorbar=dict(title=\"Reward\")  # colorbar legend\n",
    ")])\n",
    "\n",
    "# Aggiorniamo il layout per aggiungere titoli e un titolo al grafico\n",
    "fig.update_layout(\n",
    "    scene=dict(\n",
    "        xaxis_title=\"Velocità\",  # x-axis title\n",
    "        yaxis_title=\"Angolo di Sterzo\",  # y-axis title\n",
    "        zaxis_title=\"Reward\"  # z-axis title\n",
    "    ),\n",
    "    title=\"Superficie della Funzione di Reward\"\n",
    ")\n",
    "\n",
    "# Mostra il grafico interattivo\n",
    "fig.show()"
   ]
  }
 ],
 "metadata": {
  "kernelspec": {
   "display_name": "safeRL",
   "language": "python",
   "name": "python3"
  },
  "language_info": {
   "codemirror_mode": {
    "name": "ipython",
    "version": 3
   },
   "file_extension": ".py",
   "mimetype": "text/x-python",
   "name": "python",
   "nbconvert_exporter": "python",
   "pygments_lexer": "ipython3",
   "version": "3.12.3"
  }
 },
 "nbformat": 4,
 "nbformat_minor": 5
}
