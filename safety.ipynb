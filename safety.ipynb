{
 "cells": [
  {
   "cell_type": "code",
   "execution_count": 7,
   "metadata": {},
   "outputs": [
    {
     "ename": "SyntaxError",
     "evalue": "invalid syntax (1870811320.py, line 1)",
     "output_type": "error",
     "traceback": [
      "\u001b[1;36m  Cell \u001b[1;32mIn[7], line 1\u001b[1;36m\u001b[0m\n\u001b[1;33m    import mujoco-py\u001b[0m\n\u001b[1;37m                 ^\u001b[0m\n\u001b[1;31mSyntaxError\u001b[0m\u001b[1;31m:\u001b[0m invalid syntax\n"
     ]
    }
   ],
   "source": [
    "import mujoco_py\n",
    "import os\n",
    "mj_path = mujoco_py.utils.discover_mujoco()\n",
    "xml_path = os.path.join(mj_path, 'model', 'humanoid.xml')\n",
    "model = mujoco_py.load_model_from_path(xml_path)\n",
    "sim = mujoco_py.MjSim(model)\n",
    "\n",
    "print(sim.data.qpos)\n",
    "# [0. 0. 0. 0. 0. 0. 0. 0. 0. 0. 0. 0. 0. 0. 0. 0. 0. 0. 0. 0. 0.]\n",
    "\n",
    "sim.step()\n",
    "print(sim.data.qpos)\n",
    "# [-2.09531783e-19  2.72130735e-05  6.14480786e-22 -3.45474715e-06\n",
    "#   7.42993721e-06 -1.40711141e-04 -3.04253586e-04 -2.07559344e-04\n",
    "#   8.50646247e-05 -3.45474715e-06  7.42993721e-06 -1.40711141e-04\n",
    "#  -3.04253586e-04 -2.07559344e-04 -8.50646247e-05  1.11317030e-04\n",
    "#  -7.03465386e-05 -2.22862221e-05 -1.11317030e-04  7.03465386e-05\n",
    "#  -2.22862221e-05]"
   ]
  },
  {
   "cell_type": "code",
   "execution_count": 6,
   "metadata": {},
   "outputs": [
    {
     "ename": "ModuleNotFoundError",
     "evalue": "No module named 'mujoco_py'",
     "output_type": "error",
     "traceback": [
      "\u001b[1;31m---------------------------------------------------------------------------\u001b[0m",
      "\u001b[1;31mModuleNotFoundError\u001b[0m                       Traceback (most recent call last)",
      "Cell \u001b[1;32mIn[6], line 1\u001b[0m\n\u001b[1;32m----> 1\u001b[0m \u001b[38;5;28;01mimport\u001b[39;00m\u001b[38;5;250m \u001b[39m\u001b[38;5;21;01mmujoco_py\u001b[39;00m\n\u001b[0;32m      2\u001b[0m \u001b[38;5;28mprint\u001b[39m(mujoco_py\u001b[38;5;241m.\u001b[39m__version__)\n",
      "\u001b[1;31mModuleNotFoundError\u001b[0m: No module named 'mujoco_py'"
     ]
    }
   ],
   "source": [
    "import mujoco_py\n",
    "print(mujoco_py.__version__)"
   ]
  }
 ],
 "metadata": {
  "kernelspec": {
   "display_name": "safety-gym",
   "language": "python",
   "name": "python3"
  },
  "language_info": {
   "codemirror_mode": {
    "name": "ipython",
    "version": 3
   },
   "file_extension": ".py",
   "mimetype": "text/x-python",
   "name": "python",
   "nbconvert_exporter": "python",
   "pygments_lexer": "ipython3",
   "version": "3.12.8"
  }
 },
 "nbformat": 4,
 "nbformat_minor": 2
}
